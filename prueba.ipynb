{
 "cells": [
  {
   "cell_type": "markdown",
   "id": "8bf34a57",
   "metadata": {},
   "source": [
    "## PRACTICANDO"
   ]
  },
  {
   "cell_type": "markdown",
   "id": "f7d5b649",
   "metadata": {},
   "source": [
    "# Extensiones VS Code para Python\n",
    "\n",
    "## 🐍 Para Python (Esenciales)\n",
    "1. Python (de Microsoft)\n",
    "2. Pylance (de Microsoft)\n",
    "\n"
   ]
  },
  {
   "cell_type": "code",
   "execution_count": null,
   "id": "ded61b8e",
   "metadata": {},
   "outputs": [],
   "source": [
    "import matplotlib.pyplot as plt\n",
    "\n",
    "# Ejemplo de datos para graficar\n",
    "x = [1, 2, 3, 4, 5]\n",
    "y = [2, 4, 6, 8, 10]\n",
    "\n",
    "plt.plot(x, y, marker='o')\n",
    "plt.title('Ejemplo de gráfico')\n",
    "plt.xlabel('ERRORRRR')\n",
    "plt.ylabel('Eje Y')\n",
    "plt.show()\n"
   ]
  }
 ],
 "metadata": {
  "kernelspec": {
   "display_name": "Python 3",
   "language": "python",
   "name": "python3"
  },
  "language_info": {
   "codemirror_mode": {
    "name": "ipython",
    "version": 3
   },
   "file_extension": ".py",
   "mimetype": "text/x-python",
   "name": "python",
   "nbconvert_exporter": "python",
   "pygments_lexer": "ipython3",
   "version": "3.12.3"
  }
 },
 "nbformat": 4,
 "nbformat_minor": 5
}
